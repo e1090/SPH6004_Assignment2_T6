{
 "cells": [
  {
   "cell_type": "code",
   "execution_count": 1,
   "metadata": {
    "id": "FrRKk38KP6zM"
   },
   "outputs": [],
   "source": [
    "import pandas as pd, numpy as np\n",
    "import matplotlib.pyplot as plt \n",
    "\n",
    "import torch, torch.nn as nn\n",
    "from torch.nn.utils import weight_norm\n",
    "from torch.utils.data import Dataset\n",
    "from torch.utils.data import DataLoader\n",
    "\n",
    "from sklearn.impute import KNNImputer\n",
    "from sklearn.utils.class_weight import compute_class_weight"
   ]
  },
  {
   "cell_type": "code",
   "execution_count": 2,
   "metadata": {
    "colab": {
     "base_uri": "https://localhost:8080/",
     "height": 322
    },
    "id": "LDp0WDWKTHuT",
    "outputId": "c1043dfc-3f09-45f9-dcbb-e6b7238adc13"
   },
   "outputs": [],
   "source": [
    "#Uncomment below to import files if using google colab\n",
    "\n",
    "#from google.colab import files\n",
    "#uploaded = files.upload()"
   ]
  },
  {
   "cell_type": "code",
   "execution_count": 3,
   "metadata": {
    "colab": {
     "base_uri": "https://localhost:8080/"
    },
    "id": "eM3cEg7c-sQw",
    "outputId": "24927468-dab1-4206-a492-05ecc4289cfe"
   },
   "outputs": [
    {
     "name": "stdout",
     "output_type": "stream",
     "text": [
      "1.13.1\n",
      "11.6\n",
      "True\n"
     ]
    }
   ],
   "source": [
    "print(torch.__version__)\n",
    "print(torch.version.cuda)\n",
    "print(torch.cuda.is_available())"
   ]
  },
  {
   "cell_type": "code",
   "execution_count": 4,
   "metadata": {
    "colab": {
     "base_uri": "https://localhost:8080/",
     "height": 36
    },
    "id": "MjVgPAON-v6E",
    "outputId": "5d9cc54f-0897-4d3c-e476-a8f2746c95bb"
   },
   "outputs": [
    {
     "data": {
      "text/plain": [
       "'NVIDIA GeForce RTX 3080'"
      ]
     },
     "execution_count": 4,
     "metadata": {},
     "output_type": "execute_result"
    }
   ],
   "source": [
    "torch.cuda.get_device_name(0)"
   ]
  },
  {
   "cell_type": "code",
   "execution_count": 5,
   "metadata": {
    "colab": {
     "base_uri": "https://localhost:8080/"
    },
    "id": "ociCfJbFyKvV",
    "outputId": "286e3d14-e1a8-4f45-8172-7953917aa09d"
   },
   "outputs": [],
   "source": [
    "#!ls"
   ]
  },
  {
   "cell_type": "code",
   "execution_count": 6,
   "metadata": {
    "id": "nLzEGwarTJ7T"
   },
   "outputs": [],
   "source": [
    "df1 = pd.read_csv('train_dynamic_knn_impute_0407.csv')\n",
    "df2 = pd.read_csv('train_static_0407.csv')\n",
    "df3 = pd.read_csv('test_dynamic_knn_impute_0407.csv')\n",
    "df4 = pd.read_csv('test_static_0407.csv')"
   ]
  },
  {
   "cell_type": "code",
   "execution_count": 7,
   "metadata": {
    "colab": {
     "base_uri": "https://localhost:8080/",
     "height": 443
    },
    "id": "3ox0VgxCyWxO",
    "outputId": "544c060d-2fcf-411d-dd97-04ec6021dfda",
    "scrolled": false
   },
   "outputs": [
    {
     "data": {
      "text/html": [
       "<div>\n",
       "<style scoped>\n",
       "    .dataframe tbody tr th:only-of-type {\n",
       "        vertical-align: middle;\n",
       "    }\n",
       "\n",
       "    .dataframe tbody tr th {\n",
       "        vertical-align: top;\n",
       "    }\n",
       "\n",
       "    .dataframe thead th {\n",
       "        text-align: right;\n",
       "    }\n",
       "</style>\n",
       "<table border=\"1\" class=\"dataframe\">\n",
       "  <thead>\n",
       "    <tr style=\"text-align: right;\">\n",
       "      <th></th>\n",
       "      <th>stay_id</th>\n",
       "      <th>charttime</th>\n",
       "      <th>icu_intime</th>\n",
       "      <th>charttime_hour</th>\n",
       "      <th>charttime_hour_1</th>\n",
       "      <th>charttime_hour_2</th>\n",
       "      <th>charttime_hour_6</th>\n",
       "      <th>charttime_hour_12</th>\n",
       "      <th>charttime_hour_24</th>\n",
       "      <th>calcium</th>\n",
       "      <th>...</th>\n",
       "      <th>chloride</th>\n",
       "      <th>hemoglobin</th>\n",
       "      <th>wbc</th>\n",
       "      <th>alt</th>\n",
       "      <th>ast</th>\n",
       "      <th>alp</th>\n",
       "      <th>bilirubin_total</th>\n",
       "      <th>bilirubin_direct</th>\n",
       "      <th>bilirubin_indirect</th>\n",
       "      <th>pt</th>\n",
       "    </tr>\n",
       "  </thead>\n",
       "  <tbody>\n",
       "    <tr>\n",
       "      <th>0</th>\n",
       "      <td>30004144</td>\n",
       "      <td>2126-04-04 09:30:00</td>\n",
       "      <td>2126-04-04 13:20:25</td>\n",
       "      <td>-3.833333</td>\n",
       "      <td>-4</td>\n",
       "      <td>-2</td>\n",
       "      <td>-1</td>\n",
       "      <td>-1</td>\n",
       "      <td>-1</td>\n",
       "      <td>8.0</td>\n",
       "      <td>...</td>\n",
       "      <td>103</td>\n",
       "      <td>13.0</td>\n",
       "      <td>5.1</td>\n",
       "      <td>29</td>\n",
       "      <td>36</td>\n",
       "      <td>82</td>\n",
       "      <td>0.4</td>\n",
       "      <td>0.7</td>\n",
       "      <td>0.633333</td>\n",
       "      <td>12.5</td>\n",
       "    </tr>\n",
       "    <tr>\n",
       "      <th>1</th>\n",
       "      <td>30004144</td>\n",
       "      <td>2126-04-04 13:06:00</td>\n",
       "      <td>2126-04-04 13:20:25</td>\n",
       "      <td>-0.233333</td>\n",
       "      <td>-1</td>\n",
       "      <td>-1</td>\n",
       "      <td>-1</td>\n",
       "      <td>-1</td>\n",
       "      <td>-1</td>\n",
       "      <td>6.8</td>\n",
       "      <td>...</td>\n",
       "      <td>102</td>\n",
       "      <td>11.8</td>\n",
       "      <td>4.8</td>\n",
       "      <td>13</td>\n",
       "      <td>19</td>\n",
       "      <td>90</td>\n",
       "      <td>0.5</td>\n",
       "      <td>0.7</td>\n",
       "      <td>0.566667</td>\n",
       "      <td>13.7</td>\n",
       "    </tr>\n",
       "    <tr>\n",
       "      <th>2</th>\n",
       "      <td>30005366</td>\n",
       "      <td>2202-12-28 02:10:00</td>\n",
       "      <td>2202-12-27 17:36:59</td>\n",
       "      <td>8.550000</td>\n",
       "      <td>8</td>\n",
       "      <td>4</td>\n",
       "      <td>1</td>\n",
       "      <td>0</td>\n",
       "      <td>0</td>\n",
       "      <td>8.8</td>\n",
       "      <td>...</td>\n",
       "      <td>100</td>\n",
       "      <td>9.2</td>\n",
       "      <td>9.4</td>\n",
       "      <td>29</td>\n",
       "      <td>18</td>\n",
       "      <td>96</td>\n",
       "      <td>0.5</td>\n",
       "      <td>0.7</td>\n",
       "      <td>0.100000</td>\n",
       "      <td>32.1</td>\n",
       "    </tr>\n",
       "    <tr>\n",
       "      <th>3</th>\n",
       "      <td>30006983</td>\n",
       "      <td>2159-10-11 13:20:00</td>\n",
       "      <td>2159-10-12 03:56:42</td>\n",
       "      <td>-14.600000</td>\n",
       "      <td>-15</td>\n",
       "      <td>-8</td>\n",
       "      <td>-3</td>\n",
       "      <td>-2</td>\n",
       "      <td>-1</td>\n",
       "      <td>8.0</td>\n",
       "      <td>...</td>\n",
       "      <td>102</td>\n",
       "      <td>10.1</td>\n",
       "      <td>8.2</td>\n",
       "      <td>44</td>\n",
       "      <td>102</td>\n",
       "      <td>311</td>\n",
       "      <td>8.2</td>\n",
       "      <td>6.9</td>\n",
       "      <td>1.300000</td>\n",
       "      <td>19.8</td>\n",
       "    </tr>\n",
       "    <tr>\n",
       "      <th>4</th>\n",
       "      <td>30006983</td>\n",
       "      <td>2159-10-12 04:28:00</td>\n",
       "      <td>2159-10-12 03:56:42</td>\n",
       "      <td>0.516667</td>\n",
       "      <td>0</td>\n",
       "      <td>0</td>\n",
       "      <td>0</td>\n",
       "      <td>0</td>\n",
       "      <td>0</td>\n",
       "      <td>7.1</td>\n",
       "      <td>...</td>\n",
       "      <td>108</td>\n",
       "      <td>10.1</td>\n",
       "      <td>8.2</td>\n",
       "      <td>47</td>\n",
       "      <td>117</td>\n",
       "      <td>278</td>\n",
       "      <td>8.4</td>\n",
       "      <td>6.9</td>\n",
       "      <td>1.300000</td>\n",
       "      <td>21.5</td>\n",
       "    </tr>\n",
       "  </tbody>\n",
       "</table>\n",
       "<p>5 rows × 23 columns</p>\n",
       "</div>"
      ],
      "text/plain": [
       "    stay_id            charttime           icu_intime  charttime_hour  \\\n",
       "0  30004144  2126-04-04 09:30:00  2126-04-04 13:20:25       -3.833333   \n",
       "1  30004144  2126-04-04 13:06:00  2126-04-04 13:20:25       -0.233333   \n",
       "2  30005366  2202-12-28 02:10:00  2202-12-27 17:36:59        8.550000   \n",
       "3  30006983  2159-10-11 13:20:00  2159-10-12 03:56:42      -14.600000   \n",
       "4  30006983  2159-10-12 04:28:00  2159-10-12 03:56:42        0.516667   \n",
       "\n",
       "   charttime_hour_1  charttime_hour_2  charttime_hour_6  charttime_hour_12  \\\n",
       "0                -4                -2                -1                 -1   \n",
       "1                -1                -1                -1                 -1   \n",
       "2                 8                 4                 1                  0   \n",
       "3               -15                -8                -3                 -2   \n",
       "4                 0                 0                 0                  0   \n",
       "\n",
       "   charttime_hour_24  calcium  ...  chloride  hemoglobin  wbc  alt  ast  alp  \\\n",
       "0                 -1      8.0  ...       103        13.0  5.1   29   36   82   \n",
       "1                 -1      6.8  ...       102        11.8  4.8   13   19   90   \n",
       "2                  0      8.8  ...       100         9.2  9.4   29   18   96   \n",
       "3                 -1      8.0  ...       102        10.1  8.2   44  102  311   \n",
       "4                  0      7.1  ...       108        10.1  8.2   47  117  278   \n",
       "\n",
       "   bilirubin_total  bilirubin_direct  bilirubin_indirect    pt  \n",
       "0              0.4               0.7            0.633333  12.5  \n",
       "1              0.5               0.7            0.566667  13.7  \n",
       "2              0.5               0.7            0.100000  32.1  \n",
       "3              8.2               6.9            1.300000  19.8  \n",
       "4              8.4               6.9            1.300000  21.5  \n",
       "\n",
       "[5 rows x 23 columns]"
      ]
     },
     "execution_count": 7,
     "metadata": {},
     "output_type": "execute_result"
    }
   ],
   "source": [
    "df1.head(5)"
   ]
  },
  {
   "cell_type": "code",
   "execution_count": 8,
   "metadata": {
    "colab": {
     "base_uri": "https://localhost:8080/",
     "height": 443
    },
    "id": "cjjtBDDeyYLf",
    "outputId": "66314e97-0f91-4b90-d8b8-6e319527a85e",
    "scrolled": false
   },
   "outputs": [
    {
     "data": {
      "text/html": [
       "<div>\n",
       "<style scoped>\n",
       "    .dataframe tbody tr th:only-of-type {\n",
       "        vertical-align: middle;\n",
       "    }\n",
       "\n",
       "    .dataframe tbody tr th {\n",
       "        vertical-align: top;\n",
       "    }\n",
       "\n",
       "    .dataframe thead th {\n",
       "        text-align: right;\n",
       "    }\n",
       "</style>\n",
       "<table border=\"1\" class=\"dataframe\">\n",
       "  <thead>\n",
       "    <tr style=\"text-align: right;\">\n",
       "      <th></th>\n",
       "      <th>stay_id</th>\n",
       "      <th>icu_intime</th>\n",
       "      <th>vent_start</th>\n",
       "      <th>vent_end</th>\n",
       "      <th>vent_start_hour</th>\n",
       "      <th>vent_end_hour</th>\n",
       "      <th>vent_duration</th>\n",
       "      <th>vent_start_hour_1</th>\n",
       "      <th>vent_end_hour_1</th>\n",
       "      <th>vent_duration_1</th>\n",
       "      <th>...</th>\n",
       "      <th>vent_duration_2</th>\n",
       "      <th>vent_start_hour_6</th>\n",
       "      <th>vent_end_hour_6</th>\n",
       "      <th>vent_duration_6</th>\n",
       "      <th>vent_start_hour_12</th>\n",
       "      <th>vent_end_hour_12</th>\n",
       "      <th>vent_duration_12</th>\n",
       "      <th>vent_start_hour_24</th>\n",
       "      <th>vent_end_hour_24</th>\n",
       "      <th>vent_duration_24</th>\n",
       "    </tr>\n",
       "  </thead>\n",
       "  <tbody>\n",
       "    <tr>\n",
       "      <th>0</th>\n",
       "      <td>30004144</td>\n",
       "      <td>2126-04-04 13:20:25</td>\n",
       "      <td>2126-04-05 16:00:00</td>\n",
       "      <td>2126-04-06 17:00:00</td>\n",
       "      <td>26.650000</td>\n",
       "      <td>51.650000</td>\n",
       "      <td>25.000000</td>\n",
       "      <td>26</td>\n",
       "      <td>51</td>\n",
       "      <td>25</td>\n",
       "      <td>...</td>\n",
       "      <td>12</td>\n",
       "      <td>4</td>\n",
       "      <td>8</td>\n",
       "      <td>4</td>\n",
       "      <td>2</td>\n",
       "      <td>4</td>\n",
       "      <td>2</td>\n",
       "      <td>1</td>\n",
       "      <td>2</td>\n",
       "      <td>1</td>\n",
       "    </tr>\n",
       "    <tr>\n",
       "      <th>1</th>\n",
       "      <td>30005366</td>\n",
       "      <td>2202-12-27 17:36:59</td>\n",
       "      <td>2202-12-28 14:00:00</td>\n",
       "      <td>2202-12-28 20:00:00</td>\n",
       "      <td>20.383333</td>\n",
       "      <td>26.383333</td>\n",
       "      <td>6.000000</td>\n",
       "      <td>20</td>\n",
       "      <td>26</td>\n",
       "      <td>6</td>\n",
       "      <td>...</td>\n",
       "      <td>3</td>\n",
       "      <td>3</td>\n",
       "      <td>4</td>\n",
       "      <td>1</td>\n",
       "      <td>1</td>\n",
       "      <td>2</td>\n",
       "      <td>0</td>\n",
       "      <td>0</td>\n",
       "      <td>1</td>\n",
       "      <td>0</td>\n",
       "    </tr>\n",
       "    <tr>\n",
       "      <th>2</th>\n",
       "      <td>30006983</td>\n",
       "      <td>2159-10-12 03:56:42</td>\n",
       "      <td>2159-10-12 18:00:00</td>\n",
       "      <td>2159-10-14 19:00:00</td>\n",
       "      <td>14.050000</td>\n",
       "      <td>63.050000</td>\n",
       "      <td>49.000000</td>\n",
       "      <td>14</td>\n",
       "      <td>63</td>\n",
       "      <td>49</td>\n",
       "      <td>...</td>\n",
       "      <td>24</td>\n",
       "      <td>2</td>\n",
       "      <td>10</td>\n",
       "      <td>8</td>\n",
       "      <td>1</td>\n",
       "      <td>5</td>\n",
       "      <td>4</td>\n",
       "      <td>0</td>\n",
       "      <td>2</td>\n",
       "      <td>2</td>\n",
       "    </tr>\n",
       "    <tr>\n",
       "      <th>3</th>\n",
       "      <td>30023204</td>\n",
       "      <td>2124-07-09 16:43:55</td>\n",
       "      <td>2124-07-11 16:00:00</td>\n",
       "      <td>2124-07-12 16:10:00</td>\n",
       "      <td>47.266667</td>\n",
       "      <td>71.433333</td>\n",
       "      <td>24.166667</td>\n",
       "      <td>47</td>\n",
       "      <td>71</td>\n",
       "      <td>24</td>\n",
       "      <td>...</td>\n",
       "      <td>12</td>\n",
       "      <td>7</td>\n",
       "      <td>11</td>\n",
       "      <td>4</td>\n",
       "      <td>3</td>\n",
       "      <td>5</td>\n",
       "      <td>2</td>\n",
       "      <td>1</td>\n",
       "      <td>2</td>\n",
       "      <td>1</td>\n",
       "    </tr>\n",
       "    <tr>\n",
       "      <th>4</th>\n",
       "      <td>30031418</td>\n",
       "      <td>2156-03-05 14:11:00</td>\n",
       "      <td>2156-03-07 22:06:00</td>\n",
       "      <td>2156-03-08 08:00:00</td>\n",
       "      <td>55.916667</td>\n",
       "      <td>65.816667</td>\n",
       "      <td>9.900000</td>\n",
       "      <td>55</td>\n",
       "      <td>65</td>\n",
       "      <td>10</td>\n",
       "      <td>...</td>\n",
       "      <td>5</td>\n",
       "      <td>9</td>\n",
       "      <td>10</td>\n",
       "      <td>1</td>\n",
       "      <td>4</td>\n",
       "      <td>5</td>\n",
       "      <td>0</td>\n",
       "      <td>2</td>\n",
       "      <td>2</td>\n",
       "      <td>0</td>\n",
       "    </tr>\n",
       "  </tbody>\n",
       "</table>\n",
       "<p>5 rows × 22 columns</p>\n",
       "</div>"
      ],
      "text/plain": [
       "    stay_id           icu_intime           vent_start             vent_end  \\\n",
       "0  30004144  2126-04-04 13:20:25  2126-04-05 16:00:00  2126-04-06 17:00:00   \n",
       "1  30005366  2202-12-27 17:36:59  2202-12-28 14:00:00  2202-12-28 20:00:00   \n",
       "2  30006983  2159-10-12 03:56:42  2159-10-12 18:00:00  2159-10-14 19:00:00   \n",
       "3  30023204  2124-07-09 16:43:55  2124-07-11 16:00:00  2124-07-12 16:10:00   \n",
       "4  30031418  2156-03-05 14:11:00  2156-03-07 22:06:00  2156-03-08 08:00:00   \n",
       "\n",
       "   vent_start_hour  vent_end_hour  vent_duration  vent_start_hour_1  \\\n",
       "0        26.650000      51.650000      25.000000                 26   \n",
       "1        20.383333      26.383333       6.000000                 20   \n",
       "2        14.050000      63.050000      49.000000                 14   \n",
       "3        47.266667      71.433333      24.166667                 47   \n",
       "4        55.916667      65.816667       9.900000                 55   \n",
       "\n",
       "   vent_end_hour_1  vent_duration_1  ...  vent_duration_2  vent_start_hour_6  \\\n",
       "0               51               25  ...               12                  4   \n",
       "1               26                6  ...                3                  3   \n",
       "2               63               49  ...               24                  2   \n",
       "3               71               24  ...               12                  7   \n",
       "4               65               10  ...                5                  9   \n",
       "\n",
       "   vent_end_hour_6  vent_duration_6  vent_start_hour_12  vent_end_hour_12  \\\n",
       "0                8                4                   2                 4   \n",
       "1                4                1                   1                 2   \n",
       "2               10                8                   1                 5   \n",
       "3               11                4                   3                 5   \n",
       "4               10                1                   4                 5   \n",
       "\n",
       "   vent_duration_12  vent_start_hour_24  vent_end_hour_24  vent_duration_24  \n",
       "0                 2                   1                 2                 1  \n",
       "1                 0                   0                 1                 0  \n",
       "2                 4                   0                 2                 2  \n",
       "3                 2                   1                 2                 1  \n",
       "4                 0                   2                 2                 0  \n",
       "\n",
       "[5 rows x 22 columns]"
      ]
     },
     "execution_count": 8,
     "metadata": {},
     "output_type": "execute_result"
    }
   ],
   "source": [
    "df2.head(5)"
   ]
  },
  {
   "cell_type": "code",
   "execution_count": 9,
   "metadata": {
    "colab": {
     "base_uri": "https://localhost:8080/"
    },
    "id": "POzinphLUL0U",
    "outputId": "afbf0915-12e0-4db4-b421-7f7813d24361"
   },
   "outputs": [
    {
     "data": {
      "text/plain": [
       "37607624    196\n",
       "30515259    130\n",
       "33572547     93\n",
       "34776632     77\n",
       "36606626     62\n",
       "Name: stay_id, dtype: int64"
      ]
     },
     "execution_count": 9,
     "metadata": {},
     "output_type": "execute_result"
    }
   ],
   "source": [
    "df1['stay_id'].value_counts().nlargest(5)"
   ]
  },
  {
   "cell_type": "code",
   "execution_count": 10,
   "metadata": {
    "colab": {
     "base_uri": "https://localhost:8080/"
    },
    "id": "S0YL40fAU_A0",
    "outputId": "42676347-f028-4550-873c-18f739d3f3bb"
   },
   "outputs": [
    {
     "data": {
      "text/plain": [
       "count    4220.000000\n",
       "mean     -244.996445\n",
       "std       591.332212\n",
       "min     -3598.000000\n",
       "25%      -164.000000\n",
       "50%       -12.000000\n",
       "75%         3.000000\n",
       "max        12.000000\n",
       "Name: charttime_hour_1, dtype: float64"
      ]
     },
     "execution_count": 10,
     "metadata": {},
     "output_type": "execute_result"
    }
   ],
   "source": [
    "df1['charttime_hour_1'].describe()"
   ]
  },
  {
   "cell_type": "code",
   "execution_count": 11,
   "metadata": {
    "colab": {
     "base_uri": "https://localhost:8080/"
    },
    "id": "sYz4eJKIXEGC",
    "outputId": "06b867fc-a67f-4363-927e-7fd821d7eb58"
   },
   "outputs": [
    {
     "data": {
      "text/plain": [
       "[-48, -42, -36, -30, -24, -18, -12, -6, 0, 6, 12]"
      ]
     },
     "execution_count": 11,
     "metadata": {},
     "output_type": "execute_result"
    }
   ],
   "source": [
    "hour_range = [12, 6]\n",
    "for i in range(9):\n",
    "    hour_range.append(-i*6)\n",
    "hour_range = hour_range[::-1]\n",
    "hour_range"
   ]
  },
  {
   "cell_type": "code",
   "execution_count": 12,
   "metadata": {
    "id": "EfeHp9Bu6Fim"
   },
   "outputs": [],
   "source": [
    "def prepX(df, rangelist, impt_col):\n",
    "    df_copy = df.copy()\n",
    "    df_drop = df_copy[df_copy['charttime_hour']>=min(rangelist)]\n",
    "    df_norm = df_drop.copy()\n",
    "    for col in df_norm.loc[:,'calcium':'pt']:\n",
    "        if df_norm[col].dtype == 'float64' or df_norm[col].dtype == 'int64':\n",
    "            df_norm[col] = (df_norm[col]-df_norm[col].mean())/df_norm[col].std()\n",
    "\n",
    "    nan_array = np.full((10,14),np.nan)\n",
    "    id_dict = {}\n",
    "    for index, row in df_norm.iterrows():\n",
    "        if str(row['stay_id']) not in id_dict:\n",
    "            id_dict[str(row['stay_id'])] = nan_array.copy()\n",
    "\n",
    "    for id in id_dict:\n",
    "        temp_df = df_norm.loc[df_norm['stay_id']==int(id)]\n",
    "        for i in range(len(rangelist)-1):\n",
    "            temp_df2 = temp_df.loc[temp_df['charttime_hour'].between(rangelist[i], rangelist[i+1], inclusive = 'left')]\n",
    "            if not temp_df2.empty:\n",
    "                temp_df2 = temp_df2.loc[:, impt_col]\n",
    "                id_dict[id][i] = list(temp_df2.mean())\n",
    "    imputer = KNNImputer(n_neighbors=2, weights=\"distance\")\n",
    "    imputed = {}\n",
    "    empty = []\n",
    "    for id in id_dict:\n",
    "        imputed[id] = imputer.fit_transform(id_dict[id])\n",
    "        if imputed[id].size == 0:\n",
    "            empty.append(id)\n",
    "    \n",
    "    for id2 in empty:\n",
    "        imputed.pop(id2)\n",
    "        \n",
    "    return imputed"
   ]
  },
  {
   "cell_type": "code",
   "execution_count": 13,
   "metadata": {},
   "outputs": [],
   "source": [
    "def prepY(df, X_dict):\n",
    "    new_df = pd.DataFrame(columns = [df.columns])\n",
    "    for x in X_dict:\n",
    "        if int(x) in df['stay_id'].values:\n",
    "            if new_df.empty:\n",
    "                new_df = df.loc[df['stay_id']==int(x), :]\n",
    "            else:\n",
    "                new_df = pd.concat([new_df, df.loc[df['stay_id']==int(x), :]])\n",
    "    return new_df"
   ]
  },
  {
   "cell_type": "code",
   "execution_count": 14,
   "metadata": {
    "id": "Mrk1ndem1buY"
   },
   "outputs": [],
   "source": [
    "col_to_include = ['calcium', 'creatinine', 'glucose', \n",
    "                  'sodium','chloride','hemoglobin','wbc','alt','ast','alp',\n",
    "                  'bilirubin_total','bilirubin_direct','bilirubin_indirect','pt']"
   ]
  },
  {
   "cell_type": "code",
   "execution_count": 15,
   "metadata": {},
   "outputs": [],
   "source": [
    "def prepTensors(X_train_dict, df2, X_test_dict, df4, label_col):\n",
    "    X_train = torch.from_numpy(np.stack(list(X_train_dict.values())))\n",
    "    y_train = torch.transpose(torch.Tensor([prepY(df2, X_train_dict)[label_col]]), 0, 1)\n",
    "    print('Length of X and Y train:', len(X_train), len(y_train))\n",
    "    \n",
    "    X_test = torch.from_numpy(np.stack(list(X_test_dict.values())))\n",
    "    y_test = torch.transpose(torch.Tensor([prepY(df4, X_test_dict)[label_col]]), 0, 1)\n",
    "    print('Length of X and Y test:', len(X_test), len(y_test))\n",
    "    \n",
    "    X_train = X_train.float()\n",
    "    y_train = y_train.float()\n",
    "    X_test = X_test.float()\n",
    "    y_test = y_test.float()\n",
    "\n",
    "    device = torch.device(\"cuda\" if torch.cuda.is_available() else \"cpu\")\n",
    "\n",
    "    X_train = X_train.to(device)\n",
    "    y_train = y_train.to(device)\n",
    "    X_test = X_test.to(device)\n",
    "    y_test = y_test.to(device)\n",
    "    \n",
    "    return X_train, y_train, X_test, y_test"
   ]
  },
  {
   "cell_type": "code",
   "execution_count": 16,
   "metadata": {
    "colab": {
     "base_uri": "https://localhost:8080/",
     "height": 72
    },
    "id": "IBWx8xte-2Yq",
    "outputId": "06a4028f-b3fd-44cc-e582-287fdfbbb710"
   },
   "outputs": [],
   "source": [
    "class sphDataSet(Dataset):\n",
    "    def __init__(self, input_X, input_y1):\n",
    "        self.x = input_X\n",
    "        self.y1 = input_y1\n",
    "    #    self.y2 = input_y2\n",
    "        self.n_samples = len(input_y1)\n",
    "\n",
    "    def __getitem__(self,index):\n",
    "        return self.x[index], self.y1[index]\n",
    "        #, self.y2[index]\n",
    "\n",
    "    def __len__(self):\n",
    "        return self.n_samples\n"
   ]
  },
  {
   "cell_type": "code",
   "execution_count": 17,
   "metadata": {},
   "outputs": [],
   "source": [
    "def prepdataloader(x, y, batchsize):\n",
    "    train_dataset = sphDataSet(x, y)\n",
    "    train_dataLoader = DataLoader(train_dataset,\n",
    "                            batch_size = batchsize,\n",
    "                            shuffle = True,\n",
    "                            num_workers=0)\n",
    "    return train_dataset, train_dataLoader"
   ]
  },
  {
   "cell_type": "markdown",
   "metadata": {},
   "source": [
    "# TCN Model"
   ]
  },
  {
   "cell_type": "code",
   "execution_count": 18,
   "metadata": {
    "id": "gGLfqf1TOJaP"
   },
   "outputs": [],
   "source": [
    "'''\n",
    "TCN source from https://github.com/locuslab/TCN\n",
    "'''\n",
    "# removes (k-1) elements from the output on the right. Ensures causality. We first pad and then chomp.\n",
    "class Chomp1d(nn.Module):\n",
    "    def __init__(self, chomp_size):\n",
    "        super(Chomp1d, self).__init__()\n",
    "        self.chomp_size = chomp_size\n",
    "\n",
    "    def forward(self, x):\n",
    "        return x[:, :, :-self.chomp_size].contiguous()\n",
    "\n",
    "# a single temporal layer/block\n",
    "class TemporalBlock(nn.Module):\n",
    "    def __init__(self, n_inputs, n_outputs, kernel_size, stride, dilation, padding, dropout=0.2):\n",
    "        super(TemporalBlock, self).__init__()\n",
    "        self.conv1 = weight_norm(nn.Conv1d(n_inputs, n_outputs, kernel_size,\n",
    "                                           stride=stride, padding=padding, dilation=dilation))\n",
    "        self.chomp1 = Chomp1d(padding)\n",
    "        self.relu1 = nn.ReLU()\n",
    "        self.dropout1 = nn.Dropout(dropout)\n",
    "\n",
    "        self.conv2 = weight_norm(nn.Conv1d(n_outputs, n_outputs, kernel_size,\n",
    "                                           stride=stride, padding=padding, dilation=dilation))\n",
    "        self.chomp2 = Chomp1d(padding)\n",
    "        self.relu2 = nn.ReLU()\n",
    "        self.dropout2 = nn.Dropout(dropout)\n",
    "\n",
    "        self.net = nn.Sequential(self.conv1, self.chomp1, self.relu1, self.dropout1,\n",
    "                                 self.conv2, self.chomp2, self.relu2, self.dropout2)\n",
    "        self.downsample = nn.Conv1d(n_inputs, n_outputs, 1) if n_inputs != n_outputs else None\n",
    "        self.relu = nn.ReLU()\n",
    "        self.init_weights()\n",
    "\n",
    "    def init_weights(self):\n",
    "        self.conv1.weight.data.normal_(0, 0.01)\n",
    "        self.conv2.weight.data.normal_(0, 0.01)\n",
    "        if self.downsample is not None:\n",
    "            self.downsample.weight.data.normal_(0, 0.01)\n",
    "\n",
    "    def forward(self, x):\n",
    "        out = self.net(x)\n",
    "        res = x if self.downsample is None else self.downsample(x)\n",
    "        return self.relu(out + res)\n",
    "    \n",
    "# Create different layers with different dilation sizes\n",
    "class TemporalConvNet(nn.Module):\n",
    "    def __init__(self, num_inputs, num_channels, kernel_size=2, dropout=0.2):\n",
    "        super(TemporalConvNet, self).__init__()\n",
    "        layers = []\n",
    "        num_levels = len(num_channels)\n",
    "        for i in range(num_levels):\n",
    "            dilation_size = 2 ** i\n",
    "            in_channels = num_inputs if i == 0 else num_channels[i-1]\n",
    "            out_channels = num_channels[i]\n",
    "            layers += [TemporalBlock(in_channels, out_channels, kernel_size, stride=1, dilation=dilation_size,\n",
    "                                     padding=(kernel_size-1) * dilation_size, dropout=dropout)]\n",
    "\n",
    "        self.network = nn.Sequential(*layers)\n",
    "\n",
    "    def forward(self, x):\n",
    "        return self.network(x)"
   ]
  },
  {
   "cell_type": "code",
   "execution_count": 19,
   "metadata": {
    "id": "3e8e7qtH8xLk"
   },
   "outputs": [],
   "source": [
    "'''\n",
    "TCN source from https://github.com/locuslab/TCN\n",
    "'''\n",
    "\n",
    "# a TCN mode with softmax for classification\n",
    "\n",
    "class TCN(nn.Module):\n",
    "    def __init__(self, input_size, output_size, num_channels, groups, kernel_size, dropout):\n",
    "        super(TCN, self).__init__()\n",
    "        self.tcn = TemporalConvNet(groups, num_channels, kernel_size, dropout=dropout)\n",
    "        self.conv = weight_norm(nn.Conv1d(input_size, groups, kernel_size=1, groups=groups))\n",
    "        self.linear = nn.Linear(num_channels[-1], output_size)\n",
    "        self.init_weights()\n",
    "#        self.sig = nn.Sigmoid()\n",
    "#        self.tanh = nn.Tanh()\n",
    "    def init_weights(self):\n",
    "        self.linear.weight.data.normal_(0, 0.01)\n",
    "    \n",
    "    def forward(self, x):\n",
    "        x = torch.flatten(x, start_dim=1)\n",
    "        x = torch.unsqueeze(x, 2)\n",
    "        output = self.conv(x)\n",
    "        output = self.tcn(output)\n",
    "        #print(output.shape, output)\n",
    "\n",
    "        output = self.linear(output[:,:,-1])\n",
    "        #print(output.shape, output)\n",
    "        return output"
   ]
  },
  {
   "cell_type": "code",
   "execution_count": 20,
   "metadata": {},
   "outputs": [],
   "source": [
    "#function to train and evaluate MSE\n",
    "def train_evaluate(model, dataloader, dataset, X_test, y_test, epoch, name):\n",
    "    global lr\n",
    "    criterion = nn.MSELoss()\n",
    "    optimizer = torch.optim.Adam(model.parameters(), lr = lr)\n",
    "    loss_count = 0 \n",
    "    loss_init = 0 \n",
    "    loss_graph = []\n",
    "    val_errors = []\n",
    "    for ep in range(epoch):\n",
    "        model.train()\n",
    "        running_loss = 0.0\n",
    "        for x, y in dataloader:\n",
    "            optimizer.zero_grad()\n",
    "            output = model(x)\n",
    "    #        if clip > 0:\n",
    "    #            torch.nn.utils.clip_grad_norm_(model.parameters(), clip)\n",
    "            loss = criterion(output[:,0], y[:,0])\n",
    "            loss.backward()\n",
    "\n",
    "            optimizer.step()\n",
    "            running_loss += loss.item()\n",
    "        if abs(loss_init- running_loss/len(dataset)) < 0.00001:\n",
    "            loss_count +=1\n",
    "        #if loss_count > 10:\n",
    "            #break\n",
    "        loss_init = running_loss/len(dataset)\n",
    "        loss_graph.append(running_loss/len(dataset))\n",
    "\n",
    "        val_error = 0 \n",
    "        tp = 0 \n",
    "        model.eval() \n",
    "        output = model(X_test)\n",
    "        val_error = torch.mean(abs(torch.round(output[:,0]) - y_test[:,0]))\n",
    "        val_errors.append(val_error.cpu().detach())\n",
    "\n",
    "        if ep % 50 == 0:\n",
    "            print(f'[{ep + 1}] loss: {running_loss/len(dataset):.3f}')\n",
    "            print('Mean L1 error:', val_error)\n",
    "\n",
    "    model.eval() \n",
    "    output = model(X_test)\n",
    "    output_cpu = output.cpu().detach().numpy().flatten()\n",
    "    df5[f'{name}']=output_cpu.tolist()\n",
    "    \n",
    "    print('Finished Training')\n",
    "    return loss_graph, output, val_errors"
   ]
  },
  {
   "cell_type": "code",
   "execution_count": 21,
   "metadata": {},
   "outputs": [],
   "source": [
    "def plotloss(var, str_input, graph):\n",
    "    plt.title(f'Loss against epoch ({str_input}, {var})')\n",
    "    ax = plt.subplot(111)\n",
    "    ax.set_xlabel('Epoch')\n",
    "    ax.set_ylabel('Loss')\n",
    "    #plt.ylim(0, 4)\n",
    "    \n",
    "    y = graph[f'mse__{str_input}']\n",
    "\n",
    "    num_epochs  = range(len(y))\n",
    "    plt.plot(num_epochs, y, label=f'min={min(y)}') \n",
    "\n",
    "    ax.legend()"
   ]
  },
  {
   "cell_type": "code",
   "execution_count": 22,
   "metadata": {},
   "outputs": [],
   "source": [
    "def ploterror(var, str_input, graph):\n",
    "    plt.title(f'Mean L1 error against epoch ({str_input}, {var})')\n",
    "    ax = plt.subplot(111)\n",
    "    ax.set_xlabel('Epoch')\n",
    "    ax.set_ylabel('Error')\n",
    "    #plt.ylim(0, 4)\n",
    "\n",
    "    y = graph[f'mse__{str_input}']\n",
    "\n",
    "    num_epochs  = range(len(y))\n",
    "    plt.plot(num_epochs, y, label=f'min={min(y)}') \n",
    "\n",
    "    ax.legend()"
   ]
  },
  {
   "cell_type": "markdown",
   "metadata": {},
   "source": [
    "# Training Models"
   ]
  },
  {
   "cell_type": "code",
   "execution_count": 23,
   "metadata": {},
   "outputs": [],
   "source": [
    "df5 = prepY(df4, prepX(df3, hour_range, col_to_include))"
   ]
  },
  {
   "cell_type": "code",
   "execution_count": 24,
   "metadata": {},
   "outputs": [],
   "source": [
    "X_train_dict = prepX(df1, hour_range, col_to_include)\n",
    "X_test_dict = prepX(df3, hour_range, col_to_include)"
   ]
  },
  {
   "cell_type": "markdown",
   "metadata": {},
   "source": [
    "# Final Model"
   ]
  },
  {
   "cell_type": "code",
   "execution_count": 25,
   "metadata": {
    "scrolled": false
   },
   "outputs": [
    {
     "name": "stdout",
     "output_type": "stream",
     "text": [
      "TCN model with MSE loss\n",
      "Starting on start_hour using MSE loss\n",
      "Training model for vent_start_hour\n",
      "Length of X and Y train: 1206 1206\n",
      "Length of X and Y test: 513 513\n",
      "[1] loss: 15.556\n",
      "Mean L1 error: tensor(26.0958, device='cuda:0', grad_fn=<MeanBackward0>)\n",
      "[51] loss: 2.459\n",
      "Mean L1 error: tensor(10.3597, device='cuda:0', grad_fn=<MeanBackward0>)\n",
      "[101] loss: 2.464\n",
      "Mean L1 error: tensor(10.3853, device='cuda:0', grad_fn=<MeanBackward0>)\n",
      "Finished Training\n",
      "=========================\n",
      "\n",
      "Starting on duration using MSE loss\n",
      "Training model for vent_duration\n",
      "Length of X and Y train: 1206 1206\n",
      "Length of X and Y test: 513 513\n",
      "[1] loss: 16546.635\n",
      "Mean L1 error: tensor(31.6962, device='cuda:0', grad_fn=<MeanBackward0>)\n",
      "[51] loss: 24.591\n",
      "Mean L1 error: tensor(22.2398, device='cuda:0', grad_fn=<MeanBackward0>)\n",
      "[101] loss: 22.337\n",
      "Mean L1 error: tensor(25.1995, device='cuda:0', grad_fn=<MeanBackward0>)\n",
      "Finished Training\n",
      "=========================\n",
      "\n"
     ]
    }
   ],
   "source": [
    "input_size = 140 #num features * num intervals\n",
    "groups = 10 #10 time intervals\n",
    "nhid = 10\n",
    "level = 10\n",
    "kernel_size = 4\n",
    "dropout = 0.4\n",
    "lr = 0.1\n",
    "\n",
    "\n",
    "\n",
    "size = 64\n",
    "output_size = 1\n",
    "epoch = 101\n",
    "device = torch.device(\"cuda\" if torch.cuda.is_available() else \"cpu\")\n",
    "loss_graphs_final = {}\n",
    "val_errors_final = {}\n",
    "\n",
    "\n",
    "\n",
    "print(f'TCN model with MSE loss')\n",
    "for str_input in ['start_hour', 'duration']:\n",
    "    print(f'Starting on {str_input} using MSE loss')\n",
    "    label_col =  'vent_{}'.format(str_input)  \n",
    "    print(f'Training model for {label_col}')\n",
    "    X_train, y_train, X_test, y_test = prepTensors(X_train_dict, df2, X_test_dict, df4, label_col)\n",
    "    train_dataset, train_dataLoader = prepdataloader(X_train, y_train, size)\n",
    "    model = TCN(input_size, output_size, nhid*[level], groups, kernel_size=kernel_size, dropout=dropout)\n",
    "    model = model.to(device)\n",
    "    loss_graph, output, val_errors = train_evaluate(model, train_dataLoader, train_dataset, X_test, \n",
    "                                                y_test, epoch, f'mse__{str_input}')\n",
    "    loss_graphs_final[f'mse__{str_input}'] = loss_graph\n",
    "    val_errors_final[f'mse__{str_input}'] = val_errors\n",
    "        \n",
    "    print('=========================')\n",
    "    print()"
   ]
  },
  {
   "cell_type": "code",
   "execution_count": 26,
   "metadata": {
    "scrolled": false
   },
   "outputs": [
    {
     "data": {
      "image/png": "[encoded data removed]",
      "text/plain": [
       "<Figure size 640x480 with 1 Axes>"
      ]
     },
     "metadata": {},
     "output_type": "display_data"
    }
   ],
   "source": [
    "plotloss('final', 'start_hour', loss_graphs_final)"
   ]
  },
  {
   "cell_type": "code",
   "execution_count": 27,
   "metadata": {
    "scrolled": false
   },
   "outputs": [
    {
     "data": {
      "image/png": "[encoded data removed]",
      "text/plain": [
       "<Figure size 640x480 with 1 Axes>"
      ]
     },
     "metadata": {},
     "output_type": "display_data"
    }
   ],
   "source": [
    "plotloss('final', 'duration', loss_graphs_final)"
   ]
  },
  {
   "cell_type": "code",
   "execution_count": 28,
   "metadata": {
    "scrolled": false
   },
   "outputs": [
    {
     "data": {
      "image/png": "[encoded data removed]",
      "text/plain": [
       "<Figure size 640x480 with 1 Axes>"
      ]
     },
     "metadata": {},
     "output_type": "display_data"
    }
   ],
   "source": [
    "ploterror('final', 'start_hour', val_errors_final)"
   ]
  },
  {
   "cell_type": "code",
   "execution_count": 29,
   "metadata": {
    "scrolled": false
   },
   "outputs": [
    {
     "data": {
      "image/png": "[encoded data removed]",
      "text/plain": [
       "<Figure size 640x480 with 1 Axes>"
      ]
     },
     "metadata": {},
     "output_type": "display_data"
    }
   ],
   "source": [
    "ploterror('final', 'duration', val_errors_final)"
   ]
  },
  {
   "cell_type": "code",
   "execution_count": 31,
   "metadata": {},
   "outputs": [
    {
     "name": "stdout",
     "output_type": "stream",
     "text": [
      "===================  VENTILATION START TIME  ============================= \n",
      "Mean L1 error: 10.49\n",
      "Mean Square error: 160.59\n",
      "Accuracy at 1 hours : 2.14 %\n",
      "Accuracy at 2 hours : 4.29 %\n",
      "Accuracy at 6 hours : 12.67 %\n",
      "Accuracy at 12 hours : 23.98 %\n",
      "Accuracy at 24 hours : 40.74 %\n",
      "===================  VENTILATION DURATION TIME  ============================= \n",
      "Mean L1 error: 25.34\n",
      "Mean Square error: 1286.93\n",
      "Accuracy at 1 hours : 1.17 %\n",
      "Accuracy at 2 hours : 0.78 %\n",
      "Accuracy at 6 hours : 3.12 %\n",
      "Accuracy at 12 hours : 8.19 %\n",
      "Accuracy at 24 hours : 18.52 %\n"
     ]
    }
   ],
   "source": [
    "def evaluate_models(str_input , pred):\n",
    "# str_input should be : start, end, duration \n",
    "    df_test_static = df5\n",
    "    for num_hours in [1, 2, 6, 12, 24]:\n",
    "        vent_hour_='vent_{}_{}'.format(str_input, num_hours)\n",
    "        if num_hours==1: \n",
    "            labels = df_test_static[vent_hour_]\n",
    "            L1_abs_err = np.mean(abs(labels - pred))\n",
    "            print('Mean L1 error:', np.round(L1_abs_err,2))\n",
    "            MSE = np.mean((labels -pred )**2)\n",
    "            print('Mean Square error:', np.round(MSE,2))\n",
    "\n",
    "        output_hours = np.round(pred/num_hours)\n",
    "        acc_hour = np.sum(output_hours == df_test_static[vent_hour_])/ len(df_test_static)*100\n",
    "        print('Accuracy at {} hours : {} %'.format(num_hours, np.round(acc_hour,2)))\n",
    "        \n",
    "print('===================  VENTILATION START TIME  ============================= ')\n",
    "evaluate_models('start_hour', df5['mse__start_hour'])\n",
    "\n",
    "print('===================  VENTILATION DURATION TIME  ============================= ')\n",
    "evaluate_models('duration', df5['mse__duration'] )"
   ]
  }
 ],
 "metadata": {
  "accelerator": "GPU",
  "colab": {
   "provenance": []
  },
  "gpuClass": "standard",
  "kernelspec": {
   "display_name": "Python 3 (ipykernel)",
   "language": "python",
   "name": "python3"
  },
  "language_info": {
   "codemirror_mode": {
    "name": "ipython",
    "version": 3
   },
   "file_extension": ".py",
   "mimetype": "text/x-python",
   "name": "python",
   "nbconvert_exporter": "python",
   "pygments_lexer": "ipython3",
   "version": "3.8.16"
  }
 },
 "nbformat": 4,
 "nbformat_minor": 1
}
